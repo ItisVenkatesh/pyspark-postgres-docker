{
 "cells": [
  {
   "cell_type": "code",
   "execution_count": 2,
   "metadata": {},
   "outputs": [],
   "source": [
    "from pyspark.sql import SparkSession\n",
    "from pyspark.sql.functions import col, lit\n",
    "\n",
    "# PostgreSQL JDBC URL\n",
    "POSTGRES_URL = \"jdbc:postgresql://localhost:5432/test_db\"\n",
    "POSTGRES_PROPERTIES = {\n",
    "    \"user\": \"test\",\n",
    "    \"password\": \"testpassword\",\n",
    "    \"driver\": \"org.postgresql.Driver\"\n",
    "}\n",
    "\n",
    "# Initialize Spark Session\n",
    "spark = SparkSession.builder \\\n",
    "    .appName(\"PySpark-Postgres\") \\\n",
    "    .config('spark.jars',\"./jars/postgresql-42.7.5.jar\") \\\n",
    "    .getOrCreate()\n",
    "\n",
    "spark.sparkContext.setLogLevel(\"ERROR\")"
   ]
  },
  {
   "cell_type": "code",
   "execution_count": 3,
   "metadata": {},
   "outputs": [
    {
     "name": "stdout",
     "output_type": "stream",
     "text": [
      "Original Data:\n",
      "+---+-------+---+\n",
      "| id|   name|age|\n",
      "+---+-------+---+\n",
      "|  1|  Alice| 30|\n",
      "|  2|    Bob| 25|\n",
      "|  3|Charlie| 35|\n",
      "+---+-------+---+\n",
      "\n"
     ]
    }
   ],
   "source": [
    "# Read data from PostgreSQL\n",
    "df = spark.read \\\n",
    "    .format(\"jdbc\") \\\n",
    "    .option(\"url\", POSTGRES_URL) \\\n",
    "    .option(\"dbtable\", \"company.employees\") \\\n",
    "    .option(\"user\", POSTGRES_PROPERTIES[\"user\"]) \\\n",
    "    .option(\"password\", POSTGRES_PROPERTIES[\"password\"]) \\\n",
    "    .option(\"driver\", POSTGRES_PROPERTIES[\"driver\"]) \\\n",
    "    .load()\n",
    "\n",
    "print(\"Original Data:\")\n",
    "df.show()\n"
   ]
  },
  {
   "cell_type": "code",
   "execution_count": 4,
   "metadata": {},
   "outputs": [
    {
     "name": "stdout",
     "output_type": "stream",
     "text": [
      "Modified Data:\n",
      "+---+-------+---+-----+\n",
      "| id|   name|age|bonus|\n",
      "+---+-------+---+-----+\n",
      "|  1|  Alice| 30| 3000|\n",
      "|  2|    Bob| 25| 2500|\n",
      "|  3|Charlie| 35| 3500|\n",
      "+---+-------+---+-----+\n",
      "\n"
     ]
    }
   ],
   "source": [
    "# Modify Data (Add a new column)\n",
    "df_transformed = df.withColumn(\"bonus\", col(\"age\") * lit(100))\n",
    "\n",
    "print(\"Modified Data:\")\n",
    "df_transformed.show()"
   ]
  },
  {
   "cell_type": "code",
   "execution_count": 5,
   "metadata": {},
   "outputs": [
    {
     "name": "stdout",
     "output_type": "stream",
     "text": [
      "Data successfully written to PostgreSQL!\n"
     ]
    }
   ],
   "source": [
    "# Write back to PostgreSQL (New Table)\n",
    "df_transformed.write \\\n",
    "    .format(\"jdbc\") \\\n",
    "    .option(\"url\", POSTGRES_URL) \\\n",
    "    .option(\"dbtable\", \"company.employees_bonus\") \\\n",
    "    .option(\"user\", POSTGRES_PROPERTIES[\"user\"]) \\\n",
    "    .option(\"password\", POSTGRES_PROPERTIES[\"password\"]) \\\n",
    "    .option(\"driver\", POSTGRES_PROPERTIES[\"driver\"]) \\\n",
    "    .mode(\"overwrite\") \\\n",
    "    .save()\n",
    "\n",
    "print(\"Data successfully written to PostgreSQL!\")\n",
    "\n",
    "# Stop Spark Session\n",
    "spark.stop()"
   ]
  }
 ],
 "metadata": {
  "kernelspec": {
   "display_name": "Python 3",
   "language": "python",
   "name": "python3"
  },
  "language_info": {
   "codemirror_mode": {
    "name": "ipython",
    "version": 3
   },
   "file_extension": ".py",
   "mimetype": "text/x-python",
   "name": "python",
   "nbconvert_exporter": "python",
   "pygments_lexer": "ipython3",
   "version": "3.9.13"
  }
 },
 "nbformat": 4,
 "nbformat_minor": 2
}
